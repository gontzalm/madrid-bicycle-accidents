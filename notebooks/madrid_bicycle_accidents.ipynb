{
 "cells": [
  {
   "cell_type": "markdown",
   "metadata": {},
   "source": [
    "# An Analysis of Traffic Accidents in Madrid Involving Bicycles\n",
    "\n",
    "Project Description goes here\n",
    "\n",
    "## Getting the Datasets"
   ]
  },
  {
   "cell_type": "code",
   "execution_count": 5,
   "metadata": {},
   "outputs": [
    {
     "output_type": "stream",
     "name": "stdout",
     "text": "/home/gontz/madrid-bicycle-accidents/datasets\n"
    }
   ],
   "source": [
    "!mkdir datasets\n",
    "%cd datasets"
   ]
  },
  {
   "cell_type": "code",
   "execution_count": 6,
   "metadata": {},
   "outputs": [
    {
     "output_type": "stream",
     "name": "stdout",
     "text": "\n[1/9]: https://datos.madrid.es/egob/catalogo/300110-1-accidentes-bicicleta.xlsx --> dataset_1.xlsx\n  % Total    % Received % Xferd  Average Speed   Time    Time     Time  Current\n                                 Dload  Upload   Total   Spent    Left  Speed\n  0     0    0     0    0     0      0      0 --:--:-- --:--:-- --:--:--     0\n100  105k  100  105k    0     0   121k      0 --:--:-- --:--:-- --:--:--  121k\n\n[2/9]: https://datos.madrid.es/egob/catalogo/300110-3-accidentes-bicicleta.xlsx --> dataset_3.xlsx\n  0     0    0     0    0     0      0      0 --:--:-- --:--:-- --:--:--     0\n100 96825  100 96825    0     0   142k      0 --:--:-- --:--:-- --:--:--  352k\n\n[3/9]: https://datos.madrid.es/egob/catalogo/300110-5-accidentes-bicicleta.xlsx --> dataset_5.xlsx\n  0     0    0     0    0     0      0      0 --:--:-- --:--:-- --:--:--     0\n100  104k  100  104k    0     0   152k      0 --:--:-- --:--:-- --:--:--  152k\n\n[4/9]: https://datos.madrid.es/egob/catalogo/300110-7-accidentes-bicicleta.xlsx --> dataset_7.xlsx\n  0     0    0     0    0     0      0      0 --:--:-- --:--:-- --:--:--     0\n100  104k  100  104k    0     0   167k      0 --:--:-- --:--:-- --:--:--  167k\n\n[5/9]: https://datos.madrid.es/egob/catalogo/300110-9-accidentes-bicicleta.xlsx --> dataset_9.xlsx\n  0     0    0     0    0     0      0      0 --:--:-- --:--:-- --:--:--     0\n100   97k  100   97k    0     0   161k      0 --:--:-- --:--:-- --:--:--  399k\n\n[6/9]: https://datos.madrid.es/egob/catalogo/300110-11-accidentes-bicicleta.xlsx --> dataset_11.xlsx\n  0     0    0     0    0     0      0      0 --:--:-- --:--:-- --:--:--     0\n100 82918  100 82918    0     0   143k      0 --:--:-- --:--:-- --:--:--  143k\n\n[7/9]: https://datos.madrid.es/egob/catalogo/300110-13-accidentes-bicicleta.xlsx --> dataset_13.xlsx\n  0     0    0     0    0     0      0      0 --:--:-- --:--:-- --:--:--     0\n100 76637  100 76637    0     0   147k      0 --:--:-- --:--:-- --:--:--  277k\n\n[8/9]: https://datos.madrid.es/egob/catalogo/300110-15-accidentes-bicicleta.xlsx --> dataset_15.xlsx\n  0     0    0     0    0     0      0      0 --:--:-- --:--:-- --:--:--     0\n100 67750  100 67750    0     0   129k      0 --:--:-- --:--:-- --:--:--  129k\n\n[9/9]: https://datos.madrid.es/egob/catalogo/300110-17-accidentes-bicicleta.xlsx --> dataset_17.xlsx\n  0     0    0     0    0     0      0      0 --:--:-- --:--:-- --:--:--     0\n100 53031  100 53031    0     0    98k      0 --:--:-- --:--:-- --:--:--   98k\n/home/gontz/madrid-bicycle-accidents\n"
    }
   ],
   "source": [
    "!curl -L -o dataset_#1.xlsx https://datos.madrid.es/egob/catalogo/300110-[1-17:2]-accidentes-bicicleta.xlsx\n",
    "%cd .."
   ]
  },
  {
   "cell_type": "code",
   "execution_count": 7,
   "metadata": {},
   "outputs": [],
   "source": [
    "import numpy as np\n",
    "import pandas as pd\n",
    "import matplotlib.pyplot as plt"
   ]
  },
  {
   "cell_type": "code",
   "execution_count": 8,
   "metadata": {},
   "outputs": [],
   "source": [
    "df = []\n",
    "for i in range(9):\n",
    "    curr_df = pd.read_excel(\"datasets/dataset_\" + str(2*i + 1) + \".xlsx\")\n",
    "    df.append(curr_df)"
   ]
  }
 ],
 "metadata": {
  "language_info": {
   "codemirror_mode": {
    "name": "ipython",
    "version": 3
   },
   "file_extension": ".py",
   "mimetype": "text/x-python",
   "name": "python",
   "nbconvert_exporter": "python",
   "pygments_lexer": "ipython3",
   "version": "3.7.7-final"
  },
  "orig_nbformat": 2,
  "kernelspec": {
   "name": "python3",
   "display_name": "Python 3"
  }
 },
 "nbformat": 4,
 "nbformat_minor": 2
}