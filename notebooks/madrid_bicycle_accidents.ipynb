{
 "cells": [
  {
   "cell_type": "markdown",
   "metadata": {},
   "source": [
    "# An Analysis of Traffic Accidents in Madrid Involving Bicycles\n",
    "\n",
    "Project Description goes here\n",
    "\n",
    "## Getting the Datasets"
   ]
  },
  {
   "cell_type": "code",
   "execution_count": null,
   "metadata": {},
   "outputs": [],
   "source": [
    "!mkdir ../datasets\n",
    "%cd ../datasets\n",
    "!curl -L -o dataset_#1.xlsx https://datos.madrid.es/egob/catalogo/300110-[1-17:2]-accidentes-bicicleta.xlsx\n",
    "%cd ../notebooks"
   ]
  },
  {
   "cell_type": "markdown",
   "metadata": {},
   "source": [
    "## Importing the Datasets with Pandas\n",
    "General imports."
   ]
  },
  {
   "cell_type": "markdown",
   "metadata": {},
   "source": [
    "## Importing the Datasets to Pandas"
   ]
  },
  {
   "cell_type": "markdown",
   "metadata": {},
   "source": [
    "Import each of the datasets and store them in a list. Then, concat the dfs and show head()."
   ]
  },
  {
   "cell_type": "code",
   "execution_count": null,
   "metadata": {},
   "outputs": [],
   "source": [
    "import numpy as np\n",
    "import pandas as pd\n",
    "import matplotlib.pyplot as plt"
   ]
  },
  {
   "cell_type": "markdown",
   "metadata": {},
   "source": [
    "Number of victims involved."
   ]
  },
  {
   "cell_type": "code",
   "execution_count": null,
   "metadata": {},
   "outputs": [],
   "source": [
    "print(f\"Victims in accidents involving bicycles between 2010 and 2018: {df.shape[0]}\")"
   ]
  },
  {
   "cell_type": "markdown",
   "metadata": {},
   "source": [
    "Show columns."
   ]
  },
  {
   "cell_type": "code",
   "execution_count": null,
   "metadata": {},
   "outputs": [],
   "source": [
    "df.columns"
   ]
  },
  {
   "cell_type": "markdown",
   "metadata": {},
   "source": [
    "Translate columns."
   ]
  },
  {
   "cell_type": "code",
   "execution_count": null,
   "metadata": {},
   "outputs": [],
   "source": [
    "eng_cols = [\"Date\", \"Hour Range\", \"Day of Week\", \"District\", \"Location\", \"No.\", \"Report No.\", \"Weather: Hail\", \"Weather: Ice\",\"Weather: Rain\", \"Weather: Fog\", \"Weather: Dry\", \"Weather: Snow\", \"Road: Wet\", \"Road: Oil\", \"Road: Mud\", \"Road: Gravel\", \"Road: Ice\", \"Road: Dry and Clean\", \"Victims\", \"Accident Type\", \"Vehicle Type\", \"Person Type\", \"Gender\", \"Harmfulness\", \"Age Range\", \"* Victims\"]\n",
    "\n",
    "df.cols = eng_cols"
   ]
  },
  {
   "cell_type": "markdown",
   "metadata": {},
   "source": [
    "Some colums dont convey much info etc etc. For example"
   ]
  },
  {
   "cell_type": "code",
   "execution_count": null,
   "metadata": {},
   "outputs": [],
   "source": [
    "df.query(\" `Vehicle Type`.str.strip() != 'BICICLETA' \")"
   ]
  },
  {
   "cell_type": "markdown",
   "metadata": {},
   "source": [
    "Lets drop unnecessary info."
   ]
  },
  {
   "cell_type": "code",
   "execution_count": null,
   "metadata": {},
   "outputs": [],
   "source": [
    "df.drop(columns=[\"Day of Week\", \"Report No.\", \"Vehicle Type\", \"* Victims\"], inplace=True)"
   ]
  },
  {
   "cell_type": "code",
   "execution_count": null,
   "metadata": {},
   "outputs": [],
   "source": [
    "df_list = []\n",
    "for i in range(9):\n",
    "    curr_df = pd.read_excel(\"../datasets/dataset_\" + str(2*i + 1) + \".xlsx\")\n",
    "    df_list.append(curr_df)\n",
    "    \n",
    "df = pd.concat([df_list[i] for i in range(9)], ignore_index=True)\n",
    "df.head()"
   ]
  }
 ],
 "metadata": {
  "language_info": {
   "codemirror_mode": {
    "name": "ipython",
    "version": 3
   },
   "file_extension": ".py",
   "mimetype": "text/x-python",
   "name": "python",
   "nbconvert_exporter": "python",
   "pygments_lexer": "ipython3",
   "version": "3.7.7-final"
  },
  "orig_nbformat": 2,
  "kernelspec": {
   "name": "python3",
   "display_name": "Python 3"
  }
 },
 "nbformat": 4,
 "nbformat_minor": 2
}